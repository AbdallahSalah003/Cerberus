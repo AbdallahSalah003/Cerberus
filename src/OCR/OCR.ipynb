{
 "cells": [
  {
   "cell_type": "code",
   "execution_count": 1,
   "metadata": {},
   "outputs": [],
   "source": [
    "import pandas as pd \n",
    "import os \n",
    "import cv2 as cv\n",
    "from skimage.feature import hog\n",
    "from sklearn.model_selection import train_test_split\n",
    "from sklearn.linear_model import LogisticRegression\n",
    "from sklearn.neighbors import  KNeighborsClassifier\n",
    "from sklearn import svm\n",
    "from joblib import dump\n"
   ]
  },
  {
   "cell_type": "code",
   "execution_count": 2,
   "metadata": {},
   "outputs": [],
   "source": [
    "columns = [\"images\" , \"label\" ]\n",
    "data = []\n",
    "labels = []"
   ]
  },
  {
   "cell_type": "code",
   "execution_count": 3,
   "metadata": {},
   "outputs": [],
   "source": [
    "def remove_ds_store(directory):\n",
    "    for root, dirs, files in os.walk(directory):\n",
    "        for file in files:\n",
    "            if file == '.DS_Store':\n",
    "                os.remove(os.path.join(root, file))\n",
    "                print(f\"Removed: {os.path.join(root, file)}\")\n",
    "\n",
    "# Specify the directory you want to clean\n",
    "directory_to_clean = 'dataset'\n",
    "remove_ds_store(directory_to_clean)"
   ]
  },
  {
   "cell_type": "code",
   "execution_count": 4,
   "metadata": {},
   "outputs": [],
   "source": [
    "dataset = 'dataset'\n",
    "paths = os.listdir(dataset)\n",
    "for path in paths:\n",
    "    images = os.listdir('dataset/'+path)\n",
    "    for img_path in images:\n",
    "        img = cv.imread('dataset/'+path+\"/\"+img_path)\n",
    "        img = cv.resize(img,(32,64))\n",
    "        gray = cv.cvtColor(img, cv.COLOR_BGR2GRAY)\n",
    "        hog_descriptor= hog(gray,orientations=9,pixels_per_cell=(8,8), cells_per_block=(1, 1))\n",
    "        data.append((hog_descriptor).flatten())\n",
    "        labels.append(path)"
   ]
  },
  {
   "cell_type": "code",
   "execution_count": 5,
   "metadata": {},
   "outputs": [
    {
     "data": {
      "text/plain": [
       "(288,)"
      ]
     },
     "execution_count": 5,
     "metadata": {},
     "output_type": "execute_result"
    }
   ],
   "source": [
    "hog_descriptor.shape"
   ]
  },
  {
   "cell_type": "code",
   "execution_count": 6,
   "metadata": {},
   "outputs": [],
   "source": [
    "df= pd.DataFrame(data)\n",
    "df[\"label\"] = labels"
   ]
  },
  {
   "cell_type": "code",
   "execution_count": 7,
   "metadata": {},
   "outputs": [
    {
     "data": {
      "text/plain": [
       "label\n",
       "1       87\n",
       "2       22\n",
       "3       18\n",
       "4       24\n",
       "5       30\n",
       "6       86\n",
       "7       40\n",
       "8       21\n",
       "9       44\n",
       "Mem     29\n",
       "aen     13\n",
       "alf     12\n",
       "ba'     24\n",
       "dal     18\n",
       "fa'     13\n",
       "gem     16\n",
       "ha'     22\n",
       "lam     23\n",
       "noon    17\n",
       "qaf     19\n",
       "ra'     28\n",
       "sad     16\n",
       "seen    28\n",
       "ta'     13\n",
       "waw     25\n",
       "ya'     29\n",
       "Name: count, dtype: int64"
      ]
     },
     "execution_count": 7,
     "metadata": {},
     "output_type": "execute_result"
    }
   ],
   "source": [
    "df['label'].value_counts().sort_index()"
   ]
  },
  {
   "cell_type": "code",
   "execution_count": 8,
   "metadata": {},
   "outputs": [],
   "source": [
    "X = df.drop(columns='label')\n",
    "y= df['label']\n",
    "X_train, X_test, y_train, y_test = train_test_split(\n",
    "    X,y,test_size=0.3,random_state=42\n",
    ")"
   ]
  },
  {
   "cell_type": "code",
   "execution_count": 9,
   "metadata": {},
   "outputs": [],
   "source": [
    "model_lr = LogisticRegression(max_iter=1000, n_jobs=-1)\n",
    "model_svm = svm.SVC(kernel=\"linear\")\n",
    "knn = KNeighborsClassifier(n_neighbors= 5)"
   ]
  },
  {
   "cell_type": "code",
   "execution_count": 10,
   "metadata": {},
   "outputs": [
    {
     "name": "stdout",
     "output_type": "stream",
     "text": [
      "LogisticRegression (train): 1.0\n",
      "LogisticRegression (test): 0.9814814814814815\n"
     ]
    }
   ],
   "source": [
    "model_lr.fit(X_train,y_train)\n",
    "print(\"LogisticRegression (train):\", model_lr.score(X_train,y_train))\n",
    "print(\"LogisticRegression (test):\", model_lr.score(X_test,y_test))"
   ]
  },
  {
   "cell_type": "code",
   "execution_count": 11,
   "metadata": {},
   "outputs": [
    {
     "name": "stdout",
     "output_type": "stream",
     "text": [
      "SVC (train): 1.0\n",
      "SVC (test): 0.9907407407407407\n"
     ]
    }
   ],
   "source": [
    "model_svm.fit(X_train,y_train)\n",
    "print(\"SVC (train):\", model_svm.score(X_train,y_train))\n",
    "print(\"SVC (test):\", model_svm.score(X_test,y_test))\n"
   ]
  },
  {
   "cell_type": "code",
   "execution_count": 12,
   "metadata": {},
   "outputs": [
    {
     "name": "stdout",
     "output_type": "stream",
     "text": [
      "KNeighborsClassifier (train): 0.9760479041916168\n",
      "KNeighborsClassifier (test): 0.9722222222222222\n"
     ]
    }
   ],
   "source": [
    "knn.fit(X_train,y_train)\n",
    "print(\"KNeighborsClassifier (train):\", knn.score(X_train,y_train))\n",
    "print(\"KNeighborsClassifier (test):\", knn.score(X_test,y_test))\n"
   ]
  },
  {
   "cell_type": "code",
   "execution_count": 13,
   "metadata": {},
   "outputs": [
    {
     "data": {
      "text/plain": [
       "['selected_model/model_svm.pkl']"
      ]
     },
     "execution_count": 13,
     "metadata": {},
     "output_type": "execute_result"
    }
   ],
   "source": [
    "dump(model_svm, \"selected_model/model_svm.pkl\")"
   ]
  },
  {
   "cell_type": "code",
   "execution_count": null,
   "metadata": {},
   "outputs": [],
   "source": []
  }
 ],
 "metadata": {
  "kernelspec": {
   "display_name": ".venv",
   "language": "python",
   "name": "python3"
  },
  "language_info": {
   "codemirror_mode": {
    "name": "ipython",
    "version": 3
   },
   "file_extension": ".py",
   "mimetype": "text/x-python",
   "name": "python",
   "nbconvert_exporter": "python",
   "pygments_lexer": "ipython3",
   "version": "3.10.10"
  }
 },
 "nbformat": 4,
 "nbformat_minor": 2
}
